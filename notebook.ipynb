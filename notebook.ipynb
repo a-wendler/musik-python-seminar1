{
 "cells": [
  {
   "cell_type": "markdown",
   "metadata": {},
   "source": [
    "Das ist eine Codezelle in einem Jupyter-Notebook. Codezellen können unterschiedliche Cody-Typen enthalten. Diese Zelle enthält Markdown, eine Auszeichnungssprache für Text.\n",
    "\n",
    "Markdown-Zellen können für ergänzende Notizen und Kommentare genutzt werden."
   ]
  },
  {
   "cell_type": "code",
   "execution_count": 3,
   "metadata": {},
   "outputs": [],
   "source": [
    "# Das ist eine Python-Zelle. Hier kann Python Programmcode geschrieben und ausgeführt werden.\n",
    "# Schreiben Sie hier erstes Programm."
   ]
  },
  {
   "cell_type": "markdown",
   "metadata": {},
   "source": [
    "# Strukturierte vs. unstrukturierte Daten, Datentypen"
   ]
  },
  {
   "cell_type": "markdown",
   "metadata": {},
   "source": [
    "In einem klassischen Orchester gibt es zahlreiche Instrumente, die in verschiedene Instrumentengruppen eingeteilt sind. Man unterscheidet z. B. Streichinstrumente, Holzblasinstrumente, Blechblasinstrumente, Pauken/Schlagzeug und sonstige Instrumente. Zu den Streichinstrumenten gehören Geigen, Bratschen, Celli und Kontrabässe. Zu den Blechblasinstrumenten gehören Hörner, Trompeten, Posaunen und Tuben. Die Holzblasinstrumente umfassen Flöten, Oboen, Klarinetten und Fagotte."
   ]
  },
  {
   "cell_type": "code",
   "execution_count": null,
   "metadata": {},
   "outputs": [],
   "source": []
  }
 ],
 "metadata": {
  "kernelspec": {
   "display_name": "Python 3",
   "language": "python",
   "name": "python3"
  },
  "language_info": {
   "codemirror_mode": {
    "name": "ipython",
    "version": 3
   },
   "file_extension": ".py",
   "mimetype": "text/x-python",
   "name": "python",
   "nbconvert_exporter": "python",
   "pygments_lexer": "ipython3",
   "version": "3.12.0"
  }
 },
 "nbformat": 4,
 "nbformat_minor": 2
}
