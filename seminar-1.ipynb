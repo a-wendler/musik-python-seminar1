{
 "cells": [
  {
   "cell_type": "markdown",
   "metadata": {},
   "source": [
    "Das ist eine Codezelle in einem Jupyter-Notebook. Codezellen können unterschiedliche Cody-Typen enthalten. Diese Zelle enthält Markdown, eine Auszeichnungssprache für Text.\n",
    "\n",
    "Markdown-Zellen können für ergänzende Notizen und Kommentare genutzt werden."
   ]
  },
  {
   "cell_type": "code",
   "execution_count": 2,
   "metadata": {},
   "outputs": [
    {
     "name": "stdout",
     "output_type": "stream",
     "text": [
      "Hallo Welt\n"
     ]
    }
   ],
   "source": [
    "# Das ist eine Python-Zelle. Hier kann Python Programmcode geschrieben und ausgeführt werden.\n",
    "# Schreiben Sie hier erstes Programm.\n",
    "\n",
    "print(\"Hallo Welt\")"
   ]
  },
  {
   "cell_type": "markdown",
   "metadata": {},
   "source": [
    "# Strukturierte vs. unstrukturierte Daten, Datentypen"
   ]
  },
  {
   "cell_type": "markdown",
   "metadata": {},
   "source": [
    "In einem klassischen Orchester gibt es zahlreiche Instrumente, die in verschiedene Instrumentengruppen eingeteilt sind. Man unterscheidet z. B. Streichinstrumente, Holzblasinstrumente, Blechblasinstrumente, Pauken/Schlagzeug und sonstige Instrumente. Zu den Streichinstrumenten gehören Geigen, Bratschen, Celli und Kontrabässe. Zu den Blechblasinstrumenten gehören Hörner, Trompeten, Posaunen und Tuben. Die Holzblasinstrumente umfassen Flöten, Oboen, Klarinetten und Fagotte."
   ]
  },
  {
   "cell_type": "code",
   "execution_count": 4,
   "metadata": {},
   "outputs": [
    {
     "data": {
      "text/plain": [
       "'In einem klassischen Orchester gibt es zahlreiche Instrumente, die in verschiedene Instrumentengruppen eingeteilt sind. Man unterscheidet z. B. Streichinstrumente, Holzblasinstrumente, Blechblasinstrumente, Pauken/Schlagzeug und sonstige Instrumente. Zu den Streichinstrumenten gehören Geigen, Bratschen, Celli und Kontrabässe. Zu den Blechblasinstrumenten gehören Hörner, Trompeten, Posaunen und Tuben. Die Holzblasinstrumente umfassen Flöten, Oboen, Klarinetten und Fagotte.'"
      ]
     },
     "execution_count": 4,
     "metadata": {},
     "output_type": "execute_result"
    }
   ],
   "source": [
    "\"In einem klassischen Orchester gibt es zahlreiche Instrumente, die in verschiedene Instrumentengruppen eingeteilt sind. Man unterscheidet z. B. Streichinstrumente, Holzblasinstrumente, Blechblasinstrumente, Pauken/Schlagzeug und sonstige Instrumente. Zu den Streichinstrumenten gehören Geigen, Bratschen, Celli und Kontrabässe. Zu den Blechblasinstrumenten gehören Hörner, Trompeten, Posaunen und Tuben. Die Holzblasinstrumente umfassen Flöten, Oboen, Klarinetten und Fagotte.\""
   ]
  },
  {
   "cell_type": "code",
   "execution_count": 19,
   "metadata": {},
   "outputs": [],
   "source": [
    "streicher = [\"Geigen\", \"Bratschen\", \"Celli\", \"Kontrabässe\"]\n",
    "blechblaeser = [\"Hörner\", \"Trompeten\", \"Posaunen\", \"Tuben\"]\n",
    "holzblaeser = [\"Flöten\", \"Oboen\", \"Klarinetten\", \"fagotte\"]\n",
    "instrument = \"Trriangel\""
   ]
  },
  {
   "cell_type": "code",
   "execution_count": 13,
   "metadata": {},
   "outputs": [
    {
     "name": "stdout",
     "output_type": "stream",
     "text": [
      "['Hörner', 'Trompeten', 'Posaunen', 'Tuben']\n"
     ]
    }
   ],
   "source": [
    "print(blechblaeser)\n",
    "len(streicher)\n",
    "type(instrument)"
   ]
  },
  {
   "cell_type": "code",
   "execution_count": 20,
   "metadata": {},
   "outputs": [
    {
     "data": {
      "text/plain": [
       "2"
      ]
     },
     "execution_count": 20,
     "metadata": {},
     "output_type": "execute_result"
    }
   ],
   "source": [
    "instrument.upper()\n",
    "instrument.count(\"r\")"
   ]
  },
  {
   "cell_type": "code",
   "execution_count": 30,
   "metadata": {},
   "outputs": [],
   "source": [
    "streicher.append(\"Gamben\")"
   ]
  },
  {
   "cell_type": "code",
   "execution_count": 34,
   "metadata": {},
   "outputs": [
    {
     "data": {
      "text/plain": [
       "['Bratschen', 'Celli', 'Gamben', 'Geigen']"
      ]
     },
     "execution_count": 34,
     "metadata": {},
     "output_type": "execute_result"
    }
   ],
   "source": [
    "streicher"
   ]
  },
  {
   "cell_type": "code",
   "execution_count": 66,
   "metadata": {},
   "outputs": [
    {
     "name": "stdout",
     "output_type": "stream",
     "text": [
      "BRATSCHEN\n",
      "bratschen\n",
      "Bratschen\n",
      "CELLI\n",
      "celli\n",
      "Celli\n",
      "GAMBEN\n",
      "gamben\n",
      "Gamben\n",
      "GEIGEN\n",
      "geigen\n",
      "Geigen\n"
     ]
    }
   ],
   "source": [
    "for element in streicher:\n",
    "\n",
    "    print(element.upper())\n",
    "    print(element.lower())\n",
    "    print(element.capitalize())\n",
    "\n"
   ]
  }
 ],
 "metadata": {
  "kernelspec": {
   "display_name": "Python 3",
   "language": "python",
   "name": "python3"
  },
  "language_info": {
   "codemirror_mode": {
    "name": "ipython",
    "version": 3
   },
   "file_extension": ".py",
   "mimetype": "text/x-python",
   "name": "python",
   "nbconvert_exporter": "python",
   "pygments_lexer": "ipython3",
   "version": "3.10.13"
  }
 },
 "nbformat": 4,
 "nbformat_minor": 2
}
