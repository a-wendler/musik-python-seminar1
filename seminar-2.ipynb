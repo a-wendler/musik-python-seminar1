{
 "cells": [
  {
   "cell_type": "code",
   "execution_count": 1,
   "metadata": {},
   "outputs": [
    {
     "data": {
      "text/plain": [
       "dict_items([('key_1', 'value_1'), ('key_2', 'value_2'), ('key_3', 'value_3')])"
      ]
     },
     "execution_count": 1,
     "metadata": {},
     "output_type": "execute_result"
    }
   ],
   "source": [
    "test = {\n",
    "    \"key_1\": \"value_1\",\n",
    "    \"key_2\": \"value_2\",\n",
    "    \"key_3\": \"value_3\"\n",
    "}\n",
    "\n",
    "test.items()"
   ]
  },
  {
   "cell_type": "code",
   "execution_count": 3,
   "metadata": {},
   "outputs": [
    {
     "data": {
      "text/plain": [
       "'value_1'"
      ]
     },
     "execution_count": 3,
     "metadata": {},
     "output_type": "execute_result"
    }
   ],
   "source": [
    "test[\"key_1\"]"
   ]
  },
  {
   "cell_type": "code",
   "execution_count": 5,
   "metadata": {},
   "outputs": [
    {
     "data": {
      "text/plain": [
       "'value_2'"
      ]
     },
     "execution_count": 5,
     "metadata": {},
     "output_type": "execute_result"
    }
   ],
   "source": [
    "test.get(\"key_2\")"
   ]
  },
  {
   "cell_type": "code",
   "execution_count": 39,
   "metadata": {},
   "outputs": [
    {
     "name": "stdout",
     "output_type": "stream",
     "text": [
      "key_2\n",
      "value_2\n",
      "key_3\n",
      "value_3\n",
      "key_4\n",
      "value_4\n"
     ]
    }
   ],
   "source": [
    "for k,v in test.items():\n",
    "    print(k)\n",
    "    print(v)"
   ]
  },
  {
   "cell_type": "code",
   "execution_count": 33,
   "metadata": {},
   "outputs": [
    {
     "name": "stdout",
     "output_type": "stream",
     "text": [
      "neu\n",
      "value_2\n",
      "value_3\n",
      "value_4\n"
     ]
    },
    {
     "data": {
      "text/plain": [
       "'neu'"
      ]
     },
     "execution_count": 33,
     "metadata": {},
     "output_type": "execute_result"
    }
   ],
   "source": [
    "for key in test.values():\n",
    "    print(key)\n",
    "\n",
    "test[\"key_1\"] = \"neu\"\n",
    "test.update({\"key_4\":\"value_4\"})\n",
    "test.pop(\"key_1\")"
   ]
  },
  {
   "cell_type": "code",
   "execution_count": 37,
   "metadata": {},
   "outputs": [
    {
     "name": "stdout",
     "output_type": "stream",
     "text": [
      "dict_items([('key_2', 'value_2'), ('key_3', 'value_3'), ('key_4', 'value_4')])\n"
     ]
    }
   ],
   "source": [
    "print(test.items())"
   ]
  },
  {
   "cell_type": "code",
   "execution_count": 8,
   "metadata": {},
   "outputs": [
    {
     "name": "stdout",
     "output_type": "stream",
     "text": [
      "s\n",
      "k\n",
      "j\n",
      "d\n",
      "n\n",
      " \n",
      "s\n",
      "k\n",
      "j\n",
      "v\n",
      "n\n",
      " \n"
     ]
    }
   ],
   "source": [
    "for buchstabe in \"skjdn skjvn \":\n",
    "    print(buchstabe)"
   ]
  },
  {
   "cell_type": "code",
   "execution_count": 25,
   "metadata": {},
   "outputs": [
    {
     "data": {
      "text/plain": [
       "['liste', 'noch', 'ein', 'element']"
      ]
     },
     "execution_count": 25,
     "metadata": {},
     "output_type": "execute_result"
    }
   ],
   "source": [
    "\"Liste, Noch, ein, Element\".replace(\" \",\"\").lower().split(\",\")"
   ]
  }
 ],
 "metadata": {
  "kernelspec": {
   "display_name": "Python 3",
   "language": "python",
   "name": "python3"
  },
  "language_info": {
   "codemirror_mode": {
    "name": "ipython",
    "version": 3
   },
   "file_extension": ".py",
   "mimetype": "text/x-python",
   "name": "python",
   "nbconvert_exporter": "python",
   "pygments_lexer": "ipython3",
   "version": "3.10.13"
  }
 },
 "nbformat": 4,
 "nbformat_minor": 2
}
