{
 "cells": [
  {
   "cell_type": "code",
   "execution_count": null,
   "metadata": {},
   "outputs": [],
   "source": [
    "# Datentypen\n",
    "\n",
    "# Strings\n",
    "\"text strings\"\n",
    "\n",
    "# Listen\n",
    "[\"element1\", \"element2\", 3, 4.6532, [1,2,3]]\n",
    "\n",
    "# Befehle\n",
    "\n",
    "# Funktionen\n",
    "print(\"Hallo Welt\")\n",
    "len(\"ksdjnfkjsdfn\")\n",
    "\n",
    "# Methoden\n",
    "\"kjsdnfkjsdf\".count(\"k\")\n",
    "\n",
    "# for-schleifen\n",
    "for element in iterable:\n",
    "    print(element)\n",
    "    len(element)\n",
    "\n"
   ]
  },
  {
   "cell_type": "code",
   "execution_count": 14,
   "metadata": {},
   "outputs": [
    {
     "name": "stdout",
     "output_type": "stream",
     "text": [
      "8\n",
      "8\n",
      "1\n"
     ]
    }
   ],
   "source": [
    "testliste = [\"element1\", \"element2\", \"3\"]\n",
    "\n",
    "for rotkaeppchen in testliste:\n",
    "    print(len(rotkaeppchen))"
   ]
  },
  {
   "cell_type": "code",
   "execution_count": 24,
   "metadata": {},
   "outputs": [
    {
     "data": {
      "text/plain": [
       "['maria', 'juliane', 'eduard', 'hanno']"
      ]
     },
     "execution_count": 24,
     "metadata": {},
     "output_type": "execute_result"
    }
   ],
   "source": [
    "name = \"maria, juliane, eduard, hanno\"\n",
    "name.split(\", \")"
   ]
  },
  {
   "cell_type": "code",
   "execution_count": 43,
   "metadata": {},
   "outputs": [],
   "source": [
    "# Dictionaries\n",
    "orchester = {}\n",
    "orchester = {\n",
    "    \"Streicher\": [\"Geigen\", \"Bratschen\", \"Celli\", \"Kontrabässe\"],\n",
    "    \"Blechbläser\": [\"Hörner\", \"Trompeten\", \"Posaunen\", \"Tuben\"],\n",
    "    \"Holzbläser\": [\"Flöten\", \"Oboen\", \"Klarinetten\", \"fagotte\"]\n",
    "}\n",
    "\n",
    "adresse = {\n",
    "    \"name\":\"Müller\",\n",
    "    \"Straße\":\"Dittrichring\",\n",
    "    \"PLZ\":\"04103\"\n",
    "}"
   ]
  },
  {
   "cell_type": "code",
   "execution_count": 34,
   "metadata": {},
   "outputs": [],
   "source": [
    "orchester[\"Schlagwerk\"] = \"Trommel"
   ]
  },
  {
   "cell_type": "code",
   "execution_count": 36,
   "metadata": {},
   "outputs": [],
   "source": [
    "orchester.update({\"sonstige\":\"Triangel\"})"
   ]
  },
  {
   "cell_type": "code",
   "execution_count": 50,
   "metadata": {},
   "outputs": [
    {
     "name": "stdout",
     "output_type": "stream",
     "text": [
      "Streicher\n",
      "Blechbläser\n",
      "Holzbläser\n"
     ]
    }
   ],
   "source": [
    "for instrumentengruppe in orchester.items():\n",
    "    print(instrumentengruppe[0])"
   ]
  },
  {
   "cell_type": "code",
   "execution_count": 51,
   "metadata": {},
   "outputs": [
    {
     "name": "stdout",
     "output_type": "stream",
     "text": [
      "Streicher\n",
      "['Geigen', 'Bratschen', 'Celli', 'Kontrabässe']\n",
      "Blechbläser\n",
      "['Hörner', 'Trompeten', 'Posaunen', 'Tuben']\n",
      "Holzbläser\n",
      "['Flöten', 'Oboen', 'Klarinetten', 'fagotte']\n"
     ]
    }
   ],
   "source": [
    "# Tuple\n",
    "for key,value in orchester.items():\n",
    "    print(key)\n",
    "    print(value)"
   ]
  }
 ],
 "metadata": {
  "kernelspec": {
   "display_name": "Python 3",
   "language": "python",
   "name": "python3"
  },
  "language_info": {
   "codemirror_mode": {
    "name": "ipython",
    "version": 3
   },
   "file_extension": ".py",
   "mimetype": "text/x-python",
   "name": "python",
   "nbconvert_exporter": "python",
   "pygments_lexer": "ipython3",
   "version": "3.10.13"
  }
 },
 "nbformat": 4,
 "nbformat_minor": 2
}
